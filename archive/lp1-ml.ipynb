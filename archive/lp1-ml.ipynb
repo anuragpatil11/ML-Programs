{
 "cells": [
  {
   "cell_type": "code",
   "execution_count": 18,
   "id": "b01b0e0c",
   "metadata": {},
   "outputs": [],
   "source": [
    "import pandas as pd\n",
    "import matplotlib.pyplot as plt"
   ]
  },
  {
   "cell_type": "code",
   "execution_count": 19,
   "id": "380c09e5",
   "metadata": {},
   "outputs": [
    {
     "data": {
      "text/html": [
       "<div>\n",
       "<style scoped>\n",
       "    .dataframe tbody tr th:only-of-type {\n",
       "        vertical-align: middle;\n",
       "    }\n",
       "\n",
       "    .dataframe tbody tr th {\n",
       "        vertical-align: top;\n",
       "    }\n",
       "\n",
       "    .dataframe thead th {\n",
       "        text-align: right;\n",
       "    }\n",
       "</style>\n",
       "<table border=\"1\" class=\"dataframe\">\n",
       "  <thead>\n",
       "    <tr style=\"text-align: right;\">\n",
       "      <th></th>\n",
       "      <th>YEAR</th>\n",
       "      <th>JAN</th>\n",
       "      <th>FEB</th>\n",
       "      <th>MAR</th>\n",
       "      <th>APR</th>\n",
       "      <th>MAY</th>\n",
       "      <th>JUN</th>\n",
       "      <th>JUL</th>\n",
       "      <th>AUG</th>\n",
       "      <th>SEP</th>\n",
       "      <th>OCT</th>\n",
       "      <th>NOV</th>\n",
       "      <th>DEC</th>\n",
       "      <th>ANNUAL</th>\n",
       "      <th>JAN-FEB</th>\n",
       "      <th>MAR-MAY</th>\n",
       "      <th>JUN-SEP</th>\n",
       "      <th>OCT-DEC</th>\n",
       "    </tr>\n",
       "  </thead>\n",
       "  <tbody>\n",
       "    <tr>\n",
       "      <th>0</th>\n",
       "      <td>1901</td>\n",
       "      <td>22.40</td>\n",
       "      <td>24.14</td>\n",
       "      <td>29.07</td>\n",
       "      <td>31.91</td>\n",
       "      <td>33.41</td>\n",
       "      <td>33.18</td>\n",
       "      <td>31.21</td>\n",
       "      <td>30.39</td>\n",
       "      <td>30.47</td>\n",
       "      <td>29.97</td>\n",
       "      <td>27.31</td>\n",
       "      <td>24.49</td>\n",
       "      <td>28.96</td>\n",
       "      <td>23.27</td>\n",
       "      <td>31.46</td>\n",
       "      <td>31.27</td>\n",
       "      <td>27.25</td>\n",
       "    </tr>\n",
       "    <tr>\n",
       "      <th>1</th>\n",
       "      <td>1902</td>\n",
       "      <td>24.93</td>\n",
       "      <td>26.58</td>\n",
       "      <td>29.77</td>\n",
       "      <td>31.78</td>\n",
       "      <td>33.73</td>\n",
       "      <td>32.91</td>\n",
       "      <td>30.92</td>\n",
       "      <td>30.73</td>\n",
       "      <td>29.80</td>\n",
       "      <td>29.12</td>\n",
       "      <td>26.31</td>\n",
       "      <td>24.04</td>\n",
       "      <td>29.22</td>\n",
       "      <td>25.75</td>\n",
       "      <td>31.76</td>\n",
       "      <td>31.09</td>\n",
       "      <td>26.49</td>\n",
       "    </tr>\n",
       "    <tr>\n",
       "      <th>2</th>\n",
       "      <td>1903</td>\n",
       "      <td>23.44</td>\n",
       "      <td>25.03</td>\n",
       "      <td>27.83</td>\n",
       "      <td>31.39</td>\n",
       "      <td>32.91</td>\n",
       "      <td>33.00</td>\n",
       "      <td>31.34</td>\n",
       "      <td>29.98</td>\n",
       "      <td>29.85</td>\n",
       "      <td>29.04</td>\n",
       "      <td>26.08</td>\n",
       "      <td>23.65</td>\n",
       "      <td>28.47</td>\n",
       "      <td>24.24</td>\n",
       "      <td>30.71</td>\n",
       "      <td>30.92</td>\n",
       "      <td>26.26</td>\n",
       "    </tr>\n",
       "    <tr>\n",
       "      <th>3</th>\n",
       "      <td>1904</td>\n",
       "      <td>22.50</td>\n",
       "      <td>24.73</td>\n",
       "      <td>28.21</td>\n",
       "      <td>32.02</td>\n",
       "      <td>32.64</td>\n",
       "      <td>32.07</td>\n",
       "      <td>30.36</td>\n",
       "      <td>30.09</td>\n",
       "      <td>30.04</td>\n",
       "      <td>29.20</td>\n",
       "      <td>26.36</td>\n",
       "      <td>23.63</td>\n",
       "      <td>28.49</td>\n",
       "      <td>23.62</td>\n",
       "      <td>30.95</td>\n",
       "      <td>30.66</td>\n",
       "      <td>26.40</td>\n",
       "    </tr>\n",
       "    <tr>\n",
       "      <th>4</th>\n",
       "      <td>1905</td>\n",
       "      <td>22.00</td>\n",
       "      <td>22.83</td>\n",
       "      <td>26.68</td>\n",
       "      <td>30.01</td>\n",
       "      <td>33.32</td>\n",
       "      <td>33.25</td>\n",
       "      <td>31.44</td>\n",
       "      <td>30.68</td>\n",
       "      <td>30.12</td>\n",
       "      <td>30.67</td>\n",
       "      <td>27.52</td>\n",
       "      <td>23.82</td>\n",
       "      <td>28.30</td>\n",
       "      <td>22.25</td>\n",
       "      <td>30.00</td>\n",
       "      <td>31.33</td>\n",
       "      <td>26.57</td>\n",
       "    </tr>\n",
       "  </tbody>\n",
       "</table>\n",
       "</div>"
      ],
      "text/plain": [
       "   YEAR    JAN    FEB    MAR    APR    MAY    JUN    JUL    AUG    SEP    OCT  \\\n",
       "0  1901  22.40  24.14  29.07  31.91  33.41  33.18  31.21  30.39  30.47  29.97   \n",
       "1  1902  24.93  26.58  29.77  31.78  33.73  32.91  30.92  30.73  29.80  29.12   \n",
       "2  1903  23.44  25.03  27.83  31.39  32.91  33.00  31.34  29.98  29.85  29.04   \n",
       "3  1904  22.50  24.73  28.21  32.02  32.64  32.07  30.36  30.09  30.04  29.20   \n",
       "4  1905  22.00  22.83  26.68  30.01  33.32  33.25  31.44  30.68  30.12  30.67   \n",
       "\n",
       "     NOV    DEC  ANNUAL  JAN-FEB  MAR-MAY  JUN-SEP  OCT-DEC  \n",
       "0  27.31  24.49   28.96    23.27    31.46    31.27    27.25  \n",
       "1  26.31  24.04   29.22    25.75    31.76    31.09    26.49  \n",
       "2  26.08  23.65   28.47    24.24    30.71    30.92    26.26  \n",
       "3  26.36  23.63   28.49    23.62    30.95    30.66    26.40  \n",
       "4  27.52  23.82   28.30    22.25    30.00    31.33    26.57  "
      ]
     },
     "execution_count": 19,
     "metadata": {},
     "output_type": "execute_result"
    }
   ],
   "source": [
    "df = pd.read_csv('temperatures.csv')\n",
    "df.head()"
   ]
  },
  {
   "cell_type": "code",
   "execution_count": 20,
   "id": "83a55ee7",
   "metadata": {},
   "outputs": [],
   "source": [
    "# input data \n",
    "x = df['YEAR']\n",
    "\n",
    "# output data\n",
    "y = df['ANNUAL']"
   ]
  },
  {
   "cell_type": "code",
   "execution_count": 21,
   "id": "9060530a",
   "metadata": {},
   "outputs": [
    {
     "data": {
      "text/plain": [
       "<matplotlib.collections.PathCollection at 0x2eabc25a250>"
      ]
     },
     "execution_count": 21,
     "metadata": {},
     "output_type": "execute_result"
    },
    {
     "data": {
      "image/png": "[encoded data removed]",
      "text/plain": [
       "<Figure size 720x360 with 1 Axes>"
      ]
     },
     "metadata": {
      "needs_background": "light"
     },
     "output_type": "display_data"
    }
   ],
   "source": [
    "plt.figure(figsize=(10,5))\n",
    "plt.title(\"Temperature of INDIA\")\n",
    "plt.xlabel('YEAR')\n",
    "plt.ylabel('ANNUAL TEMPERATURE OF INDIA')\n",
    "plt.scatter(x,y)"
   ]
  },
  {
   "cell_type": "code",
   "execution_count": 22,
   "id": "beffd38a",
   "metadata": {},
   "outputs": [
    {
     "data": {
      "text/plain": [
       "(117,)"
      ]
     },
     "execution_count": 22,
     "metadata": {},
     "output_type": "execute_result"
    }
   ],
   "source": [
    "x.shape"
   ]
  },
  {
   "cell_type": "code",
   "execution_count": 23,
   "id": "2785e604",
   "metadata": {},
   "outputs": [
    {
     "data": {
      "text/plain": [
       "array([1901, 1902, 1903, 1904, 1905, 1906, 1907, 1908, 1909, 1910, 1911,\n",
       "       1912, 1913, 1914, 1915, 1916, 1917, 1918, 1919, 1920, 1921, 1922,\n",
       "       1923, 1924, 1925, 1926, 1927, 1928, 1929, 1930, 1931, 1932, 1933,\n",
       "       1934, 1935, 1936, 1937, 1938, 1939, 1940, 1941, 1942, 1943, 1944,\n",
       "       1945, 1946, 1947, 1948, 1949, 1950, 1951, 1952, 1953, 1954, 1955,\n",
       "       1956, 1957, 1958, 1959, 1960, 1961, 1962, 1963, 1964, 1965, 1966,\n",
       "       1967, 1968, 1969, 1970, 1971, 1972, 1973, 1974, 1975, 1976, 1977,\n",
       "       1978, 1979, 1980, 1981, 1982, 1983, 1984, 1985, 1986, 1987, 1988,\n",
       "       1989, 1990, 1991, 1992, 1993, 1994, 1995, 1996, 1997, 1998, 1999,\n",
       "       2000, 2001, 2002, 2003, 2004, 2005, 2006, 2007, 2008, 2009, 2010,\n",
       "       2011, 2012, 2013, 2014, 2015, 2016, 2017], dtype=int64)"
      ]
     },
     "execution_count": 23,
     "metadata": {},
     "output_type": "execute_result"
    }
   ],
   "source": [
    "# array me convert kane k liye\n",
    "x.values"
   ]
  },
  {
   "cell_type": "code",
   "execution_count": 49,
   "id": "7b9a406c",
   "metadata": {},
   "outputs": [],
   "source": [
    "# reshape karege series se 2d me \n",
    "x = x.reshape(117,1)"
   ]
  },
  {
   "cell_type": "code",
   "execution_count": 50,
   "id": "f1db0535",
   "metadata": {},
   "outputs": [
    {
     "data": {
      "text/plain": [
       "(117, 1)"
      ]
     },
     "execution_count": 50,
     "metadata": {},
     "output_type": "execute_result"
    }
   ],
   "source": [
    "x.shape"
   ]
  },
  {
   "cell_type": "code",
   "execution_count": 31,
   "id": "194dd039",
   "metadata": {},
   "outputs": [
    {
     "data": {
      "text/plain": [
       "(117, 1)"
      ]
     },
     "execution_count": 31,
     "metadata": {},
     "output_type": "execute_result"
    }
   ],
   "source": [
    "x.shape"
   ]
  },
  {
   "cell_type": "code",
   "execution_count": 32,
   "id": "fe81bd2d",
   "metadata": {},
   "outputs": [],
   "source": [
    "from sklearn.linear_model import LinearRegression"
   ]
  },
  {
   "cell_type": "code",
   "execution_count": 34,
   "id": "17616313",
   "metadata": {},
   "outputs": [],
   "source": [
    "# LinearRegression() class ko import kiya object bana kar 'reg' naam ka\n",
    "reg = LinearRegression()"
   ]
  },
  {
   "cell_type": "raw",
   "id": "dee089de",
   "metadata": {},
   "source": [
    "reg.fit(x,y)"
   ]
  },
  {
   "cell_type": "raw",
   "id": "e16b4e07",
   "metadata": {},
   "source": []
  },
  {
   "cell_type": "code",
   "execution_count": 35,
   "id": "4e5b0f96",
   "metadata": {},
   "outputs": [
    {
     "data": {
      "text/html": [
       "<style>#sk-container-id-1 {color: black;}#sk-container-id-1 pre{padding: 0;}#sk-container-id-1 div.sk-toggleable {background-color: white;}#sk-container-id-1 label.sk-toggleable__label {cursor: pointer;display: block;width: 100%;margin-bottom: 0;padding: 0.3em;box-sizing: border-box;text-align: center;}#sk-container-id-1 label.sk-toggleable__label-arrow:before {content: \"▸\";float: left;margin-right: 0.25em;color: #696969;}#sk-container-id-1 label.sk-toggleable__label-arrow:hover:before {color: black;}#sk-container-id-1 div.sk-estimator:hover label.sk-toggleable__label-arrow:before {color: black;}#sk-container-id-1 div.sk-toggleable__content {max-height: 0;max-width: 0;overflow: hidden;text-align: left;background-color: #f0f8ff;}#sk-container-id-1 div.sk-toggleable__content pre {margin: 0.2em;color: black;border-radius: 0.25em;background-color: #f0f8ff;}#sk-container-id-1 input.sk-toggleable__control:checked~div.sk-toggleable__content {max-height: 200px;max-width: 100%;overflow: auto;}#sk-container-id-1 input.sk-toggleable__control:checked~label.sk-toggleable__label-arrow:before {content: \"▾\";}#sk-container-id-1 div.sk-estimator input.sk-toggleable__control:checked~label.sk-toggleable__label {background-color: #d4ebff;}#sk-container-id-1 div.sk-label input.sk-toggleable__control:checked~label.sk-toggleable__label {background-color: #d4ebff;}#sk-container-id-1 input.sk-hidden--visually {border: 0;clip: rect(1px 1px 1px 1px);clip: rect(1px, 1px, 1px, 1px);height: 1px;margin: -1px;overflow: hidden;padding: 0;position: absolute;width: 1px;}#sk-container-id-1 div.sk-estimator {font-family: monospace;background-color: #f0f8ff;border: 1px dotted black;border-radius: 0.25em;box-sizing: border-box;margin-bottom: 0.5em;}#sk-container-id-1 div.sk-estimator:hover {background-color: #d4ebff;}#sk-container-id-1 div.sk-parallel-item::after {content: \"\";width: 100%;border-bottom: 1px solid gray;flex-grow: 1;}#sk-container-id-1 div.sk-label:hover label.sk-toggleable__label {background-color: #d4ebff;}#sk-container-id-1 div.sk-serial::before {content: \"\";position: absolute;border-left: 1px solid gray;box-sizing: border-box;top: 0;bottom: 0;left: 50%;z-index: 0;}#sk-container-id-1 div.sk-serial {display: flex;flex-direction: column;align-items: center;background-color: white;padding-right: 0.2em;padding-left: 0.2em;position: relative;}#sk-container-id-1 div.sk-item {position: relative;z-index: 1;}#sk-container-id-1 div.sk-parallel {display: flex;align-items: stretch;justify-content: center;background-color: white;position: relative;}#sk-container-id-1 div.sk-item::before, #sk-container-id-1 div.sk-parallel-item::before {content: \"\";position: absolute;border-left: 1px solid gray;box-sizing: border-box;top: 0;bottom: 0;left: 50%;z-index: -1;}#sk-container-id-1 div.sk-parallel-item {display: flex;flex-direction: column;z-index: 1;position: relative;background-color: white;}#sk-container-id-1 div.sk-parallel-item:first-child::after {align-self: flex-end;width: 50%;}#sk-container-id-1 div.sk-parallel-item:last-child::after {align-self: flex-start;width: 50%;}#sk-container-id-1 div.sk-parallel-item:only-child::after {width: 0;}#sk-container-id-1 div.sk-dashed-wrapped {border: 1px dashed gray;margin: 0 0.4em 0.5em 0.4em;box-sizing: border-box;padding-bottom: 0.4em;background-color: white;}#sk-container-id-1 div.sk-label label {font-family: monospace;font-weight: bold;display: inline-block;line-height: 1.2em;}#sk-container-id-1 div.sk-label-container {text-align: center;}#sk-container-id-1 div.sk-container {/* jupyter's `normalize.less` sets `[hidden] { display: none; }` but bootstrap.min.css set `[hidden] { display: none !important; }` so we also need the `!important` here to be able to override the default hidden behavior on the sphinx rendered scikit-learn.org. See: https://github.com/scikit-learn/scikit-learn/issues/21755 */display: inline-block !important;position: relative;}#sk-container-id-1 div.sk-text-repr-fallback {display: none;}</style><div id=\"sk-container-id-1\" class=\"sk-top-container\"><div class=\"sk-text-repr-fallback\"><pre>LinearRegression()</pre><b>In a Jupyter environment, please rerun this cell to show the HTML representation or trust the notebook. <br />On GitHub, the HTML representation is unable to render, please try loading this page with nbviewer.org.</b></div><div class=\"sk-container\" hidden><div class=\"sk-item\"><div class=\"sk-estimator sk-toggleable\"><input class=\"sk-toggleable__control sk-hidden--visually\" id=\"sk-estimator-id-1\" type=\"checkbox\" checked><label for=\"sk-estimator-id-1\" class=\"sk-toggleable__label sk-toggleable__label-arrow\">LinearRegression</label><div class=\"sk-toggleable__content\"><pre>LinearRegression()</pre></div></div></div></div></div>"
      ],
      "text/plain": [
       "LinearRegression()"
      ]
     },
     "execution_count": 35,
     "metadata": {},
     "output_type": "execute_result"
    }
   ],
   "source": [
    "# model ko train kar rahe hai fit method ko use karke\n",
    "reg.fit(x,y)"
   ]
  },
  {
   "cell_type": "code",
   "execution_count": 36,
   "id": "ee52be17",
   "metadata": {},
   "outputs": [
    {
     "data": {
      "text/plain": [
       "array([29.7587171])"
      ]
     },
     "execution_count": 36,
     "metadata": {},
     "output_type": "execute_result"
    }
   ],
   "source": [
    "reg.predict([[2003]])"
   ]
  },
  {
   "cell_type": "code",
   "execution_count": 37,
   "id": "7f79b567",
   "metadata": {},
   "outputs": [
    {
     "data": {
      "text/plain": [
       "array([0.01312158])"
      ]
     },
     "execution_count": 37,
     "metadata": {},
     "output_type": "execute_result"
    }
   ],
   "source": [
    "# model parameters\n",
    "# m(slope)\n",
    "reg.coef_"
   ]
  },
  {
   "cell_type": "code",
   "execution_count": 38,
   "id": "0e1a6e7b",
   "metadata": {},
   "outputs": [
    {
     "data": {
      "text/plain": [
       "3.4761897126187087"
      ]
     },
     "execution_count": 38,
     "metadata": {},
     "output_type": "execute_result"
    }
   ],
   "source": [
    "# model parameters\n",
    "# c(intercept)\n",
    "reg.intercept_"
   ]
  },
  {
   "cell_type": "code",
   "execution_count": 41,
   "id": "01127076",
   "metadata": {},
   "outputs": [
    {
     "data": {
      "text/plain": [
       "array([28.4203158 , 28.43343739, 28.44655897, 28.45968055, 28.47280213,\n",
       "       28.48592371, 28.49904529, 28.51216687, 28.52528846, 28.53841004,\n",
       "       28.55153162, 28.5646532 , 28.57777478, 28.59089636, 28.60401794,\n",
       "       28.61713952, 28.63026111, 28.64338269, 28.65650427, 28.66962585,\n",
       "       28.68274743, 28.69586901, 28.70899059, 28.72211218, 28.73523376,\n",
       "       28.74835534, 28.76147692, 28.7745985 , 28.78772008, 28.80084166,\n",
       "       28.81396324, 28.82708483, 28.84020641, 28.85332799, 28.86644957,\n",
       "       28.87957115, 28.89269273, 28.90581431, 28.91893589, 28.93205748,\n",
       "       28.94517906, 28.95830064, 28.97142222, 28.9845438 , 28.99766538,\n",
       "       29.01078696, 29.02390855, 29.03703013, 29.05015171, 29.06327329,\n",
       "       29.07639487, 29.08951645, 29.10263803, 29.11575961, 29.1288812 ,\n",
       "       29.14200278, 29.15512436, 29.16824594, 29.18136752, 29.1944891 ,\n",
       "       29.20761068, 29.22073227, 29.23385385, 29.24697543, 29.26009701,\n",
       "       29.27321859, 29.28634017, 29.29946175, 29.31258333, 29.32570492,\n",
       "       29.3388265 , 29.35194808, 29.36506966, 29.37819124, 29.39131282,\n",
       "       29.4044344 , 29.41755599, 29.43067757, 29.44379915, 29.45692073,\n",
       "       29.47004231, 29.48316389, 29.49628547, 29.50940705, 29.52252864,\n",
       "       29.53565022, 29.5487718 , 29.56189338, 29.57501496, 29.58813654,\n",
       "       29.60125812, 29.6143797 , 29.62750129, 29.64062287, 29.65374445,\n",
       "       29.66686603, 29.67998761, 29.69310919, 29.70623077, 29.71935236,\n",
       "       29.73247394, 29.74559552, 29.7587171 , 29.77183868, 29.78496026,\n",
       "       29.79808184, 29.81120342, 29.82432501, 29.83744659, 29.85056817,\n",
       "       29.86368975, 29.87681133, 29.88993291, 29.90305449, 29.91617608,\n",
       "       29.92929766, 29.94241924])"
      ]
     },
     "execution_count": 41,
     "metadata": {},
     "output_type": "execute_result"
    }
   ],
   "source": [
    "predict = reg.predict(x)\n",
    "predict"
   ]
  },
  {
   "cell_type": "code",
   "execution_count": 39,
   "id": "5a324687",
   "metadata": {},
   "outputs": [],
   "source": [
    "from sklearn.metrics import mean_absolute_error"
   ]
  },
  {
   "cell_type": "code",
   "execution_count": 42,
   "id": "6b1c5ba1",
   "metadata": {},
   "outputs": [
    {
     "data": {
      "text/plain": [
       "0.22535284978630418"
      ]
     },
     "execution_count": 42,
     "metadata": {},
     "output_type": "execute_result"
    }
   ],
   "source": [
    "mean_absolute_error(y,predict)"
   ]
  },
  {
   "cell_type": "code",
   "execution_count": 43,
   "id": "bdaaed02",
   "metadata": {},
   "outputs": [],
   "source": [
    "from sklearn.metrics import mean_squared_error\n"
   ]
  },
  {
   "cell_type": "code",
   "execution_count": 44,
   "id": "1b140a15",
   "metadata": {},
   "outputs": [
    {
     "data": {
      "text/plain": [
       "0.10960795229110358"
      ]
     },
     "execution_count": 44,
     "metadata": {},
     "output_type": "execute_result"
    }
   ],
   "source": [
    "mean_squared_error(y,predict)"
   ]
  },
  {
   "cell_type": "code",
   "execution_count": 45,
   "id": "280a4bd3",
   "metadata": {},
   "outputs": [],
   "source": [
    "from sklearn.metrics import r2_score\n"
   ]
  },
  {
   "cell_type": "code",
   "execution_count": 46,
   "id": "90b31a07",
   "metadata": {},
   "outputs": [
    {
     "data": {
      "text/plain": [
       "0.641807891278368"
      ]
     },
     "execution_count": 46,
     "metadata": {},
     "output_type": "execute_result"
    }
   ],
   "source": [
    "r2_score(y,predict)"
   ]
  },
  {
   "cell_type": "code",
   "execution_count": 48,
   "id": "79abdbb9",
   "metadata": {},
   "outputs": [
    {
     "data": {
      "text/plain": [
       "<matplotlib.legend.Legend at 0x2eabf1736a0>"
      ]
     },
     "execution_count": 48,
     "metadata": {},
     "output_type": "execute_result"
    },
    {
     "data": {
      "image/png": "[encoded data removed]",
      "text/plain": [
       "<Figure size 720x360 with 1 Axes>"
      ]
     },
     "metadata": {
      "needs_background": "light"
     },
     "output_type": "display_data"
    }
   ],
   "source": [
    "plt.figure(figsize=(10,5))\n",
    "plt.title(\"Temperature of INDIA\")\n",
    "plt.xlabel('YEAR')\n",
    "plt.ylabel('ANNUAL TEMPERATURE OF INDIA')\n",
    "plt.scatter(x,y,label='actual',marker='.')\n",
    "plt.plot(x,predict,label='predicted',color='r')\n",
    "plt.legend()"
   ]
  },
  {
   "cell_type": "code",
   "execution_count": null,
   "id": "b10c76a7",
   "metadata": {},
   "outputs": [],
   "source": []
  }
 ],
 "metadata": {
  "kernelspec": {
   "display_name": "Python 3 (ipykernel)",
   "language": "python",
   "name": "python3"
  },
  "language_info": {
   "codemirror_mode": {
    "name": "ipython",
    "version": 3
   },
   "file_extension": ".py",
   "mimetype": "text/x-python",
   "name": "python",
   "nbconvert_exporter": "python",
   "pygments_lexer": "ipython3",
   "version": "3.9.7"
  }
 },
 "nbformat": 4,
 "nbformat_minor": 5
}
